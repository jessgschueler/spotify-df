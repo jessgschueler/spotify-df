{
 "cells": [
  {
   "cell_type": "code",
   "execution_count": 37,
   "metadata": {},
   "outputs": [],
   "source": [
    "import pandas as pd\n",
    "import numpy as np\n",
    "\n",
    "albums_file = './data/spotify_albums.csv'\n",
    "artists_file = './data/spotify_artists.csv'\n",
    "tracks_file = './data/spotify_tracks.csv'\n",
    "\n",
    "albums = pd.read_csv(albums_file, header=0)\n",
    "artists = pd.read_csv(artists_file, header=0)\n",
    "tracks = pd.read_csv(tracks_file, header=0)"
   ]
  },
  {
   "cell_type": "code",
   "execution_count": null,
   "metadata": {},
   "outputs": [],
   "source": [
    "#print(df.head()) will print the first 5 rows of the dataframe. This allows us to see a preview of the kind of data we are working with, and what we can expect for the values.\n",
    "print(albums.head())\n",
    "\n",
    "#print(df.tail()) will print the last 5 rows of the dataframe. We can compare this data to the df.head() to see if the data changes significantly through the dataframe.\n",
    "print(albums.tail())\n",
    "\n",
    "#print(df.shape) will print the (number of rows, number of columns). This gives us an indication of the amount of data we are working with.\n",
    "print(albums.shape)"
   ]
  },
  {
   "cell_type": "code",
   "execution_count": null,
   "metadata": {},
   "outputs": [],
   "source": [
    "print(artists.head())\n",
    "print(artists.tail())\n",
    "print(artists.shape)\n",
    "\n",
    "print(tracks.head())\n",
    "print(tracks.tail())\n",
    "print(tracks.shape)"
   ]
  },
  {
   "cell_type": "code",
   "execution_count": null,
   "metadata": {},
   "outputs": [],
   "source": [
    "print(albums.loc[10:20, ['name', 'release_date']])"
   ]
  },
  {
   "cell_type": "code",
   "execution_count": 41,
   "metadata": {},
   "outputs": [],
   "source": [
    "albums.drop_duplicates(keep='first', subset='id', inplace = True)\n",
    "artists.drop_duplicates(keep='first', subset= 'id', inplace = True)\n",
    "tracks.drop_duplicates(keep='first', subset='id', inplace = True)"
   ]
  },
  {
   "cell_type": "code",
   "execution_count": 42,
   "metadata": {},
   "outputs": [],
   "source": [
    "#Map function to replace blank values in 'generes' with NaN.\n",
    "def map_genre (value):\n",
    "    if value =='[]':\n",
    "        return np.NaN\n",
    "    else:\n",
    "        return value\n",
    "\n",
    "artists['genres']= artists.genres.map(map_genre)"
   ]
  },
  {
   "cell_type": "code",
   "execution_count": null,
   "metadata": {},
   "outputs": [],
   "source": [
    "print(tracks.columns)\n",
    "\n",
    "tracks_rem = tracks.drop('lyrics', axis=1, errors='ignore')\n",
    "\n",
    "#'lyrics' has been removed from df tracks. A new variable has been assigned in order to show change. \n",
    "print(tracks_rem.columns)"
   ]
  },
  {
   "cell_type": "code",
   "execution_count": null,
   "metadata": {},
   "outputs": [],
   "source": [
    "'''\n",
    "Left outer join is being performed to ensure that artist info stays in the df even if they do not have a correlating album.\n",
    "I chose to keep this data as the analysis questions are primarily regarding artists, and I didn't want to eliminate artists \n",
    "from that analysis if they did not have a corresponding album\n",
    "'''\n",
    "artists_albums = pd.merge(artists, albums, how='left', left_on='id', right_on='artist_id')\n",
    "\n",
    "print(artists_albums.head())\n",
    "artists_albums.shape"
   ]
  },
  {
   "cell_type": "code",
   "execution_count": 60,
   "metadata": {},
   "outputs": [
    {
     "name": "stdout",
     "output_type": "stream",
     "text": [
      "   Unnamed: 0_x album_type               artist_id  \\\n",
      "0             0     single  3DiDSECUqqY1AuBP8qtaIa   \n",
      "1             1      album  6s1pCNXcbdtQJlsnM1hRIA   \n",
      "2             2     single  5YjfNaHq05WrwldRe1QSBc   \n",
      "3             3     single  2G9Vc16JCpnZmK4uGH46Fa   \n",
      "4             4     single  2dwM9OcE4c3Ph1UBINSodx   \n",
      "\n",
      "                                 available_markets_x  \\\n",
      "0  ['AD', 'AE', 'AR', 'AT', 'AU', 'BE', 'BG', 'BH...   \n",
      "1  ['AD', 'AE', 'AR', 'AT', 'AU', 'BE', 'BG', 'BH...   \n",
      "2  ['AD', 'AE', 'AR', 'AT', 'AU', 'BE', 'BG', 'BH...   \n",
      "3  ['AD', 'AE', 'AR', 'AT', 'AU', 'BE', 'BG', 'BH...   \n",
      "4  ['AD', 'AE', 'AR', 'AT', 'AU', 'BE', 'BG', 'BH...   \n",
      "\n",
      "                                       external_urls  \\\n",
      "0  {'spotify': 'https://open.spotify.com/album/1g...   \n",
      "1  {'spotify': 'https://open.spotify.com/album/4K...   \n",
      "2  {'spotify': 'https://open.spotify.com/album/7n...   \n",
      "3  {'spotify': 'https://open.spotify.com/album/6p...   \n",
      "4  {'spotify': 'https://open.spotify.com/album/1X...   \n",
      "\n",
      "                                              href_x                    id_x  \\\n",
      "0  https://api.spotify.com/v1/albums/1gAM7M4rBwEb...  1gAM7M4rBwEbSPeAQR2nx1   \n",
      "1  https://api.spotify.com/v1/albums/4KfJZV7WfolY...  4KfJZV7WfolYlxBzOTo66s   \n",
      "2  https://api.spotify.com/v1/albums/7nLYY7uAVUb5...  7nLYY7uAVUb57kpd7tZxnS   \n",
      "3  https://api.spotify.com/v1/albums/6p20Rt4x2Qn5...  6p20Rt4x2Qn5mUMRi1s6pj   \n",
      "4  https://api.spotify.com/v1/albums/1XeoOqC1q7U2...  1XeoOqC1q7U2iyLEQJ64cu   \n",
      "\n",
      "                                              images  \\\n",
      "0  [{'height': 640, 'url': 'https://i.scdn.co/ima...   \n",
      "1  [{'height': 640, 'url': 'https://i.scdn.co/ima...   \n",
      "2  [{'height': 640, 'url': 'https://i.scdn.co/ima...   \n",
      "3  [{'height': 640, 'url': 'https://i.scdn.co/ima...   \n",
      "4  [{'height': 640, 'url': 'https://i.scdn.co/ima...   \n",
      "\n",
      "                                              name_x release_date  ...  \\\n",
      "0                              If I Ain't Got You EP   2019-02-08  ...   \n",
      "1  Shostakovich Symphony No.5 - Four Romances on ...   2019-03-01  ...   \n",
      "2                                       Take My Bass   2019-03-14  ...   \n",
      "3                                Hypnotizing (Are U)   2016-11-16  ...   \n",
      "4                                           Sunshine   2018-07-20  ...   \n",
      "\n",
      "                                         preview_url  speechiness    tempo  \\\n",
      "0  https://p.scdn.co/mp3-preview/06b26d3394260b30...       0.1090  118.539   \n",
      "1  https://p.scdn.co/mp3-preview/76a758fad6bc2d66...       0.0522  133.458   \n",
      "2  https://p.scdn.co/mp3-preview/e2a872994fa74cc1...       0.0669  126.060   \n",
      "3  https://p.scdn.co/mp3-preview/619a85e30cc382a5...       0.0840  159.992   \n",
      "4  https://p.scdn.co/mp3-preview/592f778ca79064ed...       0.0592   89.655   \n",
      "\n",
      "  time_signature                                         track_href  \\\n",
      "0            3.0  https://api.spotify.com/v1/tracks/2iejTMy9XZ8G...   \n",
      "1            3.0  https://api.spotify.com/v1/tracks/1WQfghEjszJJ...   \n",
      "2            4.0  https://api.spotify.com/v1/tracks/3jJKj4QTK3v1...   \n",
      "3            4.0  https://api.spotify.com/v1/tracks/1xGtDafUZbHy...   \n",
      "4            4.0  https://api.spotify.com/v1/tracks/0gWtsXvXOzAT...   \n",
      "\n",
      "  track_name_prev_y  track_number                                 uri_y  \\\n",
      "0          track_32           2.0  spotify:track:2iejTMy9XZ8Gaae0aQ2yl0   \n",
      "1          track_11           2.0  spotify:track:1WQfghEjszJJ4H8MAWrQ2C   \n",
      "2          track_15           1.0  spotify:track:3jJKj4QTK3v18ZSwpk7AcV   \n",
      "3          track_46           1.0  spotify:track:1xGtDafUZbHyYC3Xarcbrj   \n",
      "4          track_10           1.0  spotify:track:0gWtsXvXOzAT6FtM3ur8in   \n",
      "\n",
      "  valence type_y  \n",
      "0   0.197  track  \n",
      "1   0.413  track  \n",
      "2   0.448  track  \n",
      "3   0.429  track  \n",
      "4   0.505  track  \n",
      "\n",
      "[5 rows x 48 columns]\n"
     ]
    },
    {
     "data": {
      "text/plain": [
       "(101939, 48)"
      ]
     },
     "execution_count": 60,
     "metadata": {},
     "output_type": "execute_result"
    }
   ],
   "source": [
    "#Inner join is performed to eliminate unnecessary data, such as albums with no tracks. \n",
    "albums_tracks = pd.merge(albums, tracks, how='inner', left_on='id', right_on='album_id')\n",
    "\n",
    "print(albums_tracks.head())\n",
    "albums_tracks.shape"
   ]
  }
 ],
 "metadata": {
  "interpreter": {
   "hash": "54f061bed3809f01193bd98f59350bb8fb86f12441362e3c4dd2856cc09512a7"
  },
  "kernelspec": {
   "display_name": "Python 3.7.13 ('venv': venv)",
   "language": "python",
   "name": "python3"
  },
  "language_info": {
   "codemirror_mode": {
    "name": "ipython",
    "version": 3
   },
   "file_extension": ".py",
   "mimetype": "text/x-python",
   "name": "python",
   "nbconvert_exporter": "python",
   "pygments_lexer": "ipython3",
   "version": "3.7.13"
  },
  "orig_nbformat": 4
 },
 "nbformat": 4,
 "nbformat_minor": 2
}
