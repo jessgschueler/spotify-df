{
 "cells": [
  {
   "cell_type": "code",
   "execution_count": 27,
   "metadata": {},
   "outputs": [],
   "source": [
    "import pandas as pd\n",
    "import numpy as np\n",
    "\n",
    "albums_file = './data/spotify_albums.csv'\n",
    "artists_file = './data/spotify_artists.csv'\n",
    "tracks_file = './data/spotify_tracks.csv'\n",
    "\n",
    "albums = pd.read_csv(albums_file, header=0)\n",
    "artists = pd.read_csv(artists_file, header=0)\n",
    "tracks = pd.read_csv(tracks_file, header=0)"
   ]
  },
  {
   "cell_type": "code",
   "execution_count": null,
   "metadata": {},
   "outputs": [],
   "source": [
    "#print(df.head()) will print the first 5 rows of the dataframe. This allows us to see a preview of the kind of data we are working with, and what we can expect for the values.\n",
    "print(albums.head())\n",
    "\n",
    "#print(df.tail()) will print the last 5 rows of the dataframe. We can compare this data to the df.head() to see if the data changes significantly through the dataframe.\n",
    "print(albums.tail())\n",
    "\n",
    "#print(df.shape) will print the (number of rows, number of columns). This gives us an indication of the amount of data we are working with.\n",
    "print(albums.shape)"
   ]
  },
  {
   "cell_type": "code",
   "execution_count": null,
   "metadata": {},
   "outputs": [],
   "source": [
    "print(artists.head())\n",
    "print(artists.tail())\n",
    "print(artists.shape)\n",
    "\n",
    "print(tracks.head())\n",
    "print(tracks.tail())\n",
    "print(tracks.shape)"
   ]
  },
  {
   "cell_type": "code",
   "execution_count": null,
   "metadata": {},
   "outputs": [],
   "source": [
    "print(albums.loc[10:20, ['name', 'release_date']])"
   ]
  },
  {
   "cell_type": "code",
   "execution_count": null,
   "metadata": {},
   "outputs": [],
   "source": [
    "albums.drop_duplicates(keep='first', subset='id', inplace = True)\n",
    "artists.drop_duplicates(keep='first', subset= 'id', inplace = True)\n",
    "tracks.drop_duplicates(keep='first', subset='id', inplace = True)"
   ]
  },
  {
   "cell_type": "code",
   "execution_count": null,
   "metadata": {},
   "outputs": [],
   "source": [
    "#Map function to replace blank values in 'generes' with NaN.\n",
    "def map_genre (value):\n",
    "    if value =='[]':\n",
    "        return np.NaN\n",
    "    else:\n",
    "        return value\n",
    "\n",
    "artists['genres']= artists.genres.map(map_genre)"
   ]
  },
  {
   "cell_type": "markdown",
   "metadata": {},
   "source": [
    "p"
   ]
  }
 ],
 "metadata": {
  "interpreter": {
   "hash": "54f061bed3809f01193bd98f59350bb8fb86f12441362e3c4dd2856cc09512a7"
  },
  "kernelspec": {
   "display_name": "Python 3.7.13 ('venv': venv)",
   "language": "python",
   "name": "python3"
  },
  "language_info": {
   "codemirror_mode": {
    "name": "ipython",
    "version": 3
   },
   "file_extension": ".py",
   "mimetype": "text/x-python",
   "name": "python",
   "nbconvert_exporter": "python",
   "pygments_lexer": "ipython3",
   "version": "3.7.13"
  },
  "orig_nbformat": 4
 },
 "nbformat": 4,
 "nbformat_minor": 2
}
