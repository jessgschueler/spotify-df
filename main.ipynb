{
 "cells": [
  {
   "cell_type": "code",
   "execution_count": 37,
   "metadata": {},
   "outputs": [],
   "source": [
    "import pandas as pd\n",
    "import numpy as np\n",
    "\n",
    "albums_file = './data/spotify_albums.csv'\n",
    "artists_file = './data/spotify_artists.csv'\n",
    "tracks_file = './data/spotify_tracks.csv'\n",
    "\n",
    "albums = pd.read_csv(albums_file, header=0)\n",
    "artists = pd.read_csv(artists_file, header=0)\n",
    "tracks = pd.read_csv(tracks_file, header=0)"
   ]
  },
  {
   "cell_type": "code",
   "execution_count": null,
   "metadata": {},
   "outputs": [],
   "source": [
    "#print(df.head()) will print the first 5 rows of the dataframe. This allows us to see a preview of the kind of data we are working with, and what we can expect for the values.\n",
    "print(albums.head())\n",
    "\n",
    "#print(df.tail()) will print the last 5 rows of the dataframe. We can compare this data to the df.head() to see if the data changes significantly through the dataframe.\n",
    "print(albums.tail())\n",
    "\n",
    "#print(df.shape) will print the (number of rows, number of columns). This gives us an indication of the amount of data we are working with.\n",
    "print(albums.shape)"
   ]
  },
  {
   "cell_type": "code",
   "execution_count": null,
   "metadata": {},
   "outputs": [],
   "source": [
    "print(artists.head())\n",
    "print(artists.tail())\n",
    "print(artists.shape)\n",
    "\n",
    "print(tracks.head())\n",
    "print(tracks.tail())\n",
    "print(tracks.shape)"
   ]
  },
  {
   "cell_type": "code",
   "execution_count": null,
   "metadata": {},
   "outputs": [],
   "source": [
    "print(albums.loc[10:20, ['name', 'release_date']])"
   ]
  },
  {
   "cell_type": "code",
   "execution_count": 41,
   "metadata": {},
   "outputs": [],
   "source": [
    "albums.drop_duplicates(keep='first', subset='id', inplace = True)\n",
    "artists.drop_duplicates(keep='first', subset= 'id', inplace = True)\n",
    "tracks.drop_duplicates(keep='first', subset='id', inplace = True)"
   ]
  },
  {
   "cell_type": "code",
   "execution_count": 42,
   "metadata": {},
   "outputs": [],
   "source": [
    "#Map function to replace blank values in 'generes' with NaN.\n",
    "def map_genre (value):\n",
    "    if value =='[]':\n",
    "        return np.NaN\n",
    "    else:\n",
    "        return value\n",
    "\n",
    "artists['genres']= artists.genres.map(map_genre)"
   ]
  },
  {
   "cell_type": "code",
   "execution_count": null,
   "metadata": {},
   "outputs": [],
   "source": [
    "print(tracks.columns)\n",
    "\n",
    "tracks_rem = tracks.drop('lyrics', axis=1, errors='ignore')\n",
    "\n",
    "#'lyrics' has been removed from df tracks. A new variable has been assigned in order to show change. \n",
    "print(tracks_rem.columns)"
   ]
  },
  {
   "cell_type": "code",
   "execution_count": null,
   "metadata": {},
   "outputs": [],
   "source": [
    "'''\n",
    "Left outer join is being performed to ensure that artist info stays in the df even if they do not have a correlating album.\n",
    "I chose to keep this data as the analysis questions are primarily regarding artists, and I didn't want to eliminate artists \n",
    "from that analysis if they did not have a corresponding album\n",
    "'''\n",
    "artists_albums = pd.merge(artists, albums, how='left', left_on='id', right_on='artist_id')\n",
    "\n",
    "print(artists_albums.head())\n",
    "artists_albums.shape"
   ]
  },
  {
   "cell_type": "code",
   "execution_count": null,
   "metadata": {},
   "outputs": [],
   "source": [
    "#Inner join is performed to eliminate unnecessary data, such as albums with no tracks. \n",
    "albums_tracks = pd.merge(albums, tracks, how='inner', left_on='id', right_on='album_id')\n",
    "\n",
    "print(albums_tracks.head())\n",
    "albums_tracks.shape"
   ]
  },
  {
   "cell_type": "code",
   "execution_count": null,
   "metadata": {},
   "outputs": [],
   "source": [
    "#Clean data for ease of use, rename columns after merge and drop extra index columns.\n",
    "artists_albums.rename(columns={'name_x':'artist_name', 'name_y':'album_name', 'id_x':'artist_id', 'id_y':'album_id'}, inplace=True)\n",
    "artists_albums.drop(['Unnamed: 0_x','Unnamed: 0_y'], axis=1, inplace=True)"
   ]
  },
  {
   "cell_type": "code",
   "execution_count": null,
   "metadata": {},
   "outputs": [],
   "source": [
    "from pandas_profiling import ProfileReport\n",
    "\n",
    "#This report gives us a lot of information about the data set. The artists that appear most in the data set are Various Artists, Johann Sebastian Bach, Frederic Chopin, David Guetta and Wolgang Amadeus Mozart.\n",
    "artist_profile = ProfileReport(artists_albums, title=\"Artists Profiling Report\")\n",
    "artist_profile.to_notebook_iframe()"
   ]
  },
  {
   "cell_type": "code",
   "execution_count": 94,
   "metadata": {},
   "outputs": [
    {
     "name": "stdout",
     "output_type": "stream",
     "text": [
      "['Ariana Grande' 'Drake' 'Post Malone' 'Khalid' 'Ozuna' 'Juice WRLD'\n",
      " 'XXXTENTACION' 'Bad Bunny' 'Anuel Aa' 'Travis Scott']\n"
     ]
    }
   ],
   "source": [
    "#Print top ten artist by artist popularity\n",
    "top_ten = artists_albums.sort_values(by= 'artist_popularity', ascending= False).artist_name.unique()\n",
    "\n",
    "print(top_ten[0:10])"
   ]
  }
 ],
 "metadata": {
  "interpreter": {
   "hash": "54f061bed3809f01193bd98f59350bb8fb86f12441362e3c4dd2856cc09512a7"
  },
  "kernelspec": {
   "display_name": "Python 3.7.13 ('venv': venv)",
   "language": "python",
   "name": "python3"
  },
  "language_info": {
   "codemirror_mode": {
    "name": "ipython",
    "version": 3
   },
   "file_extension": ".py",
   "mimetype": "text/x-python",
   "name": "python",
   "nbconvert_exporter": "python",
   "pygments_lexer": "ipython3",
   "version": "3.7.13"
  },
  "orig_nbformat": 4
 },
 "nbformat": 4,
 "nbformat_minor": 2
}
